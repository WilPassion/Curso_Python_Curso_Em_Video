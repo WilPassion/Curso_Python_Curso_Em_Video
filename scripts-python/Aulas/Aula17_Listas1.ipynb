{
 "cells": [
  {
   "cell_type": "markdown",
   "metadata": {},
   "source": [
    "**LISTAS**"
   ]
  },
  {
   "cell_type": "code",
   "execution_count": null,
   "metadata": {},
   "outputs": [],
   "source": [
    "# Listas\n",
    "\n",
    "lanche = ['Hamburguer', 'Suco', 'Pizza', 'Picole']\n",
    "print(lanche)"
   ]
  },
  {
   "cell_type": "markdown",
   "metadata": {},
   "source": [
    "**Inserindo valores...**"
   ]
  },
  {
   "cell_type": "code",
   "execution_count": 6,
   "metadata": {},
   "outputs": [
    {
     "name": "stdout",
     "output_type": "stream",
     "text": [
      "['Hamburguer', 'Suco', 'Pizza', 'Picole']\n",
      "['Hamburguer', 'Suco', 'Pizza', 'Picole', 'Cookie']\n"
     ]
    }
   ],
   "source": [
    "# Adicionando item à lista\n",
    "lanche = ['Hamburguer', 'Suco', 'Pizza', 'Picole']\n",
    "print(lanche)\n",
    "\n",
    "lanche.append('Cookie')\n",
    "print(lanche) # ['Hamburguer', 'Suco', 'Pizza', 'Picole', 'Cookie']"
   ]
  },
  {
   "cell_type": "code",
   "execution_count": 5,
   "metadata": {},
   "outputs": [
    {
     "name": "stdout",
     "output_type": "stream",
     "text": [
      "['Hamburguer', 'Suco', 'Pizza', 'Picole']\n",
      "['Bombom', 'Hamburguer', 'Suco', 'Pizza', 'Picole']\n"
     ]
    }
   ],
   "source": [
    "# INSERT\n",
    "lanche = ['Hamburguer', 'Suco', 'Pizza', 'Picole']\n",
    "print(lanche)\n",
    "\n",
    "lanche.insert(0,'Bombom') \n",
    "print(lanche) # ['Bombom', 'Hamburguer', 'Suco', 'Pizza', 'Picole', 'Cookie']"
   ]
  },
  {
   "cell_type": "code",
   "execution_count": 7,
   "metadata": {},
   "outputs": [
    {
     "name": "stdout",
     "output_type": "stream",
     "text": [
      "['Hamburguer', 'Suco', 'Pizza', 'Picole']\n",
      "['Hamburguer', 'Suco', 'Pizza', 'Picole', 'Torta']\n"
     ]
    }
   ],
   "source": [
    "# Insere item ao fim da lista:\n",
    "lanche = ['Hamburguer', 'Suco', 'Pizza', 'Picole']\n",
    "print(lanche)\n",
    "\n",
    "lanche.append('Torta')\n",
    "print(lanche) # ['Hamburguer', 'Picole', 'Cookie', 'Torta']"
   ]
  },
  {
   "cell_type": "markdown",
   "metadata": {},
   "source": [
    "**Removendo valores...**"
   ]
  },
  {
   "cell_type": "code",
   "execution_count": 15,
   "metadata": {},
   "outputs": [
    {
     "name": "stdout",
     "output_type": "stream",
     "text": [
      "['Hamburguer', 'Suco', 'Pizza', 'Picole']\n",
      "['Hamburguer', 'Suco', 'Picole']\n"
     ]
    }
   ],
   "source": [
    "# Removendo item pelo ÍNDICE - POP\n",
    "\n",
    "lanche = ['Hamburguer', 'Suco', 'Pizza', 'Picole']\n",
    "print(lanche)\n",
    "\n",
    "\n",
    "lanche.pop(2) # Pizza = índice 2\n",
    "print(lanche) # ['Hamburguer', 'Suco', 'Picole']"
   ]
  },
  {
   "cell_type": "code",
   "execution_count": 19,
   "metadata": {},
   "outputs": [
    {
     "name": "stdout",
     "output_type": "stream",
     "text": [
      "['Hamburguer', 'Suco', 'Pizza', 'Picole', 'Bombom']\n",
      "['Hamburguer', 'Suco', 'Pizza', 'Picole']\n"
     ]
    }
   ],
   "source": [
    "# Removendo item pelo ITEM/VALOR - REMOVER\n",
    "\n",
    "lanche = ['Hamburguer', 'Suco', 'Pizza', 'Picole', 'Bombom']\n",
    "print(lanche)\n",
    "\n",
    "lanche.remove('Bombom') # bombom\n",
    "print(lanche) # ['Hamburguer', 'Suco', 'Pizza', 'Picole']"
   ]
  },
  {
   "cell_type": "code",
   "execution_count": 21,
   "metadata": {},
   "outputs": [
    {
     "name": "stdout",
     "output_type": "stream",
     "text": [
      "['Hamburguer', 'Suco', 'Pizza', 'Picole', 'Bombom']\n",
      "['Hamburguer', 'Suco', 'Picole', 'Bombom']\n"
     ]
    }
   ],
   "source": [
    "# Removendo item com IF \n",
    "\n",
    "lanche = ['Hamburguer', 'Suco', 'Pizza', 'Picole', 'Bombom']\n",
    "print(lanche)\n",
    "\n",
    "if'Pizza' in lanche:\n",
    "    lanche.remove('Pizza')\n",
    "print(lanche)   # ['Hamburguer', 'Suco', 'Picole', 'Bombom']"
   ]
  },
  {
   "cell_type": "markdown",
   "metadata": {},
   "source": [
    "**Criando lista com RANGE**"
   ]
  },
  {
   "cell_type": "code",
   "execution_count": 22,
   "metadata": {},
   "outputs": [
    {
     "name": "stdout",
     "output_type": "stream",
     "text": [
      "[4, 5, 6, 7, 8, 9, 10]\n",
      "[0, 2, 4, 6, 8, 10, 12, 14, 16, 18, 20]\n"
     ]
    }
   ],
   "source": [
    "lista = list(range(4,11))\n",
    "print(lista) # [4, 5, 6, 7, 8, 9, 10]\n",
    "\n",
    "lista2 = list(range(0,21,2))\n",
    "print(lista2) # [0, 2, 4, 6, 8, 10, 12, 14, 16, 18, 20]"
   ]
  },
  {
   "cell_type": "markdown",
   "metadata": {},
   "source": [
    "**Ordenando valores com SORT***"
   ]
  },
  {
   "cell_type": "code",
   "execution_count": 25,
   "metadata": {},
   "outputs": [
    {
     "name": "stdout",
     "output_type": "stream",
     "text": [
      "[1, 2, 3, 4, 5, 7, 8, 9]\n",
      "[9, 8, 7, 5, 4, 3, 2, 1]\n"
     ]
    }
   ],
   "source": [
    "# Ordenando valores com SORT\n",
    "\n",
    "valores = [8,3,7,2,5,1,9,4]\n",
    "valores.sort()\n",
    "print(valores) # [1, 2, 3, 4, 5, 7, 8, 9]\n",
    "\n",
    "# Ordenando valores com SORT em ordem REVERSE\n",
    "\n",
    "valores.sort(reverse=True)\n",
    "print(valores) # [9, 8, 7, 5, 4, 3, 2, 1]"
   ]
  },
  {
   "cell_type": "markdown",
   "metadata": {},
   "source": [
    "***Contando itens com LEN**"
   ]
  },
  {
   "cell_type": "code",
   "execution_count": 24,
   "metadata": {},
   "outputs": [
    {
     "name": "stdout",
     "output_type": "stream",
     "text": [
      "Essa lista tem 8 elementos.\n"
     ]
    }
   ],
   "source": [
    "valores2 = [8,3,7,2,5,1,9,4]\n",
    "len(valores2)\n",
    "print(f\"Essa lista tem {len(valores2)} elementos.\") # Essa lista tem 8 elementos."
   ]
  },
  {
   "cell_type": "markdown",
   "metadata": {},
   "source": [
    "**Alterando valores em listas**"
   ]
  },
  {
   "cell_type": "code",
   "execution_count": 26,
   "metadata": {},
   "outputs": [
    {
     "name": "stdout",
     "output_type": "stream",
     "text": [
      "[2, 9, 50, 1]\n"
     ]
    }
   ],
   "source": [
    "num = [2,9,5,1]\n",
    "num[2] = 50\n",
    "print(num) # [2, 9, 50, 1]"
   ]
  },
  {
   "cell_type": "code",
   "execution_count": 28,
   "metadata": {},
   "outputs": [
    {
     "name": "stdout",
     "output_type": "stream",
     "text": [
      "[5, 9, 4]\n",
      "5...9...4...5...\n",
      "9...\n",
      "4...\n"
     ]
    }
   ],
   "source": [
    "valores3 = []\n",
    "\n",
    "valores3.append(5)\n",
    "valores3.append(9)\n",
    "valores3.append(4)\n",
    "print(valores3)   # [5, 9, 3]\n",
    "\n",
    "for v in valores3:\n",
    "    print(f\"{v}...\", end='') # 5...9...4... printado na vertical -> end\n",
    "    \n",
    "# ou\n",
    "\n",
    "for v in valores3:\n",
    "    print(f\"{v}...\") # Valores printados na vertical"
   ]
  },
  {
   "cell_type": "markdown",
   "metadata": {},
   "source": [
    "**FUNÇÃO ENUMERATE**\n",
    "\n",
    "* enumerate(iterável, início=0) \n",
    "\n",
    "* A função enumerate retorna uma sequência de tuplas que contém um índice (começando de 0, por padrão) e o valor correspondente do item no iterável (neste caso, a lista).\n",
    "\n",
    "Exemplo com a lista [5, 9, 4]:\n",
    "    \n",
    "Saída: [(0, 5), (1, 9), (2, 4)] "
   ]
  },
  {
   "cell_type": "code",
   "execution_count": 29,
   "metadata": {},
   "outputs": [
    {
     "name": "stdout",
     "output_type": "stream",
     "text": [
      "Na posição 0 encontrei o valor 5\n",
      "Na posição 1 encontrei o valor 9\n",
      "Na posição 2 encontrei o valor 4\n",
      "Cheguei ao final da lista\n"
     ]
    }
   ],
   "source": [
    "itens_lista = []\n",
    "\n",
    "itens_lista.append(5)\n",
    "itens_lista.append(9)\n",
    "itens_lista.append(4)\n",
    "\n",
    "# indice_posicao -> o índice (posição) de cada elemento na lista # 0...1...2...\n",
    "# indice_posicao o valor do elemento correspondente\n",
    "\n",
    "for indice_posicao, valor in enumerate(itens_lista):\n",
    "    print(f\"Na posição {indice_posicao} encontrei o valor {valor}\") # 5...9...4\n",
    "print(\"Cheguei ao final da lista\")"
   ]
  },
  {
   "cell_type": "code",
   "execution_count": 31,
   "metadata": {},
   "outputs": [
    {
     "name": "stdout",
     "output_type": "stream",
     "text": [
      "[(0, 'maçã'), (1, 'banana'), (2, 'laranja')]\n"
     ]
    }
   ],
   "source": [
    "frutas = ['maçã', 'banana', 'laranja']\n",
    "\n",
    "# Aplicando a função enumerate\n",
    "resultado = list(enumerate(frutas))\n",
    "\n",
    "print(resultado)"
   ]
  },
  {
   "cell_type": "code",
   "execution_count": null,
   "metadata": {},
   "outputs": [],
   "source": []
  }
 ],
 "metadata": {
  "kernelspec": {
   "display_name": "Python 3",
   "language": "python",
   "name": "python3"
  },
  "language_info": {
   "codemirror_mode": {
    "name": "ipython",
    "version": 3
   },
   "file_extension": ".py",
   "mimetype": "text/x-python",
   "name": "python",
   "nbconvert_exporter": "python",
   "pygments_lexer": "ipython3",
   "version": "3.12.3"
  }
 },
 "nbformat": 4,
 "nbformat_minor": 2
}
